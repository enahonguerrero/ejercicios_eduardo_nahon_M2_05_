{
 "cells": [
  {
   "cell_type": "markdown",
   "metadata": {},
   "source": [
    "# Ejercicios Modulo 2. Control de flujo\n",
    "\n",
    "Consideraciones a tener en cuenta: \n",
    "\n",
    "* Guardar este documento con el siguiente formato para su entrega: __M2_05_nombre_apellido1_apellido2__\n",
    "* Realizar los ejercicios con las herramientas vistas en las sesiones. \n",
    "* Comentar el código\n",
    "* Utilizar nombres de variables apropiados, si vais a guardar una nota, llamar a esa variable nota, no n o x"
   ]
  },
  {
   "cell_type": "markdown",
   "metadata": {},
   "source": [
    "## Ejercicios de control de flujo"
   ]
  },
  {
   "cell_type": "markdown",
   "metadata": {},
   "source": [
    "**1) Realiza un programa que lea tres números por teclado y permita evaluar lo siguiente:** \n",
    "* Si los números están en orden ascendente\n",
    "* Si los números no están en orden ascendente\n",
    "* Si hay un error debido a que el primer número introducido es 0 vale\n",
    "\n",
    "__No uses listas, eso dejalo para el siguiente ejercicio__"
   ]
  },
  {
   "cell_type": "code",
   "execution_count": null,
   "metadata": {},
   "outputs": [
    {
     "name": "stdout",
     "output_type": "stream",
     "text": [
      "Los números están desordenados : \n"
     ]
    }
   ],
   "source": [
    "valor1 = int(input(\"Introduzca un número : \"))\n",
    "valor2 = int(input(\"Introduzca otro número : \"))\n",
    "valor3 = int(input(\"Introduzca el otro número : \"))\n",
    "if valor1<valor2<valor3:\n",
    "    print(\"Los números están en orden ascendente : \",valor1, valor2, valor3)\n",
    "elif valor1>valor2>valor3:\n",
    "    print(\"Los números están ordenados de forma descendente : \", valor1, valor2, valor3)\n",
    "else:\n",
    "    print(\"Los números están desordenados : \", valor1, valor2, valor3)\n",
    "if valor1 == 0: \n",
    "    print(\"No hay error si el primer valor es 0 : \", valor1, valor2, valor3)\n",
    "\n",
    "    "
   ]
  },
  {
   "cell_type": "markdown",
   "metadata": {},
   "source": [
    "**2) Realiza el ejercicio anterior pero introduciendo los numeros en una lista:**"
   ]
  },
  {
   "cell_type": "code",
   "execution_count": 8,
   "metadata": {},
   "outputs": [
    {
     "name": "stdout",
     "output_type": "stream",
     "text": [
      "Los números están en orden ascendente :  [0, 2, 4]\n",
      "No hay error si el primer valor es 0 :  [0, 2, 4]\n"
     ]
    }
   ],
   "source": [
    "lista_números = []\n",
    "valor1 = int(input(\"Introduzca un número : \"))\n",
    "lista_números.append(valor1)\n",
    "valor2 = int(input(\"Introduzca otro número : \"))\n",
    "lista_números.append(valor2)\n",
    "valor3 = int(input(\"Introduzca el otro número : \"))\n",
    "lista_números.append(valor3)\n",
    "if valor1 < valor2 < valor3 :\n",
    "    print(\"Los números están en orden ascendente : \", lista_números)\n",
    "elif valor1 > valor2 > valor3 :\n",
    "    print(\"Los números están ordenados de forma descendente : \", lista_números)\n",
    "else:\n",
    "    print(\"Los números están desordenados : \", lista_números)\n",
    "if valor1 == 0: \n",
    "    print(\"No hay error si el primer valor es 0 : \", lista_números)\n"
   ]
  },
  {
   "cell_type": "code",
   "execution_count": null,
   "metadata": {},
   "outputs": [],
   "source": []
  },
  {
   "cell_type": "markdown",
   "metadata": {},
   "source": [
    "**3) Realiza un programa que lea letras y cuente con una variable contador las letras \"a\" que se introducen. Para salir del programa, introducir el carácter \".\". Al finalizar mostrar el número de veces que se ha pulsado la letra \"a\".**"
   ]
  },
  {
   "cell_type": "code",
   "execution_count": 4,
   "metadata": {},
   "outputs": [
    {
     "name": "stdout",
     "output_type": "stream",
     "text": [
      "4\n"
     ]
    }
   ],
   "source": [
    "contador_0 = 0\n",
    "for i in range(50):\n",
    "    letras = input(\"Introduzca una letra : \").lower()\n",
    "    if letras == \"a\":\n",
    "        contador_0 += 1\n",
    "    if letras == \".\":\n",
    "        break\n",
    "print(contador_0)\n"
   ]
  },
  {
   "cell_type": "markdown",
   "metadata": {},
   "source": [
    "**4) Crea una lista de palabras, recorre la lista y muestra cada palabra junto con su longitud. Al final, indicar cual fue la palabra con más caracteres.**"
   ]
  },
  {
   "cell_type": "code",
   "execution_count": null,
   "metadata": {},
   "outputs": [],
   "source": []
  }
 ],
 "metadata": {
  "anaconda-cloud": {},
  "kernelspec": {
   "display_name": "Python 3",
   "language": "python",
   "name": "python3"
  },
  "language_info": {
   "codemirror_mode": {
    "name": "ipython",
    "version": 3
   },
   "file_extension": ".py",
   "mimetype": "text/x-python",
   "name": "python",
   "nbconvert_exporter": "python",
   "pygments_lexer": "ipython3",
   "version": "3.13.7"
  }
 },
 "nbformat": 4,
 "nbformat_minor": 1
}
